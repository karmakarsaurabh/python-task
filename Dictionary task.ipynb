{
 "cells": [
  {
   "cell_type": "markdown",
   "id": "6da82591-d2fa-43d8-a9d5-d5bf31bdd895",
   "metadata": {},
   "source": [
    "# DICTIONARY"
   ]
  },
  {
   "cell_type": "code",
   "execution_count": null,
   "id": "ab106478-f273-4baa-b025-be45f27acf41",
   "metadata": {},
   "outputs": [],
   "source": []
  },
  {
   "cell_type": "markdown",
   "id": "0735b8c4-77b5-4156-96c0-5727201fbab3",
   "metadata": {},
   "source": [
    "# CLEAR() "
   ]
  },
  {
   "cell_type": "markdown",
   "id": "a953526f-d8f1-423d-aa44-b833b4a6a366",
   "metadata": {},
   "source": [
    "* the clear() method removes all the element from a dictionary."
   ]
  },
  {
   "cell_type": "code",
   "execution_count": 6,
   "id": "069c7763-4871-47c4-8b0f-bdc2eec21955",
   "metadata": {},
   "outputs": [],
   "source": [
    "car = {'brand':'mahindra','model':'bolero neo','year':'2020'}"
   ]
  },
  {
   "cell_type": "code",
   "execution_count": 3,
   "id": "210b7bb1-1c25-4cfb-a145-90cca6bc92f0",
   "metadata": {},
   "outputs": [
    {
     "data": {
      "text/plain": [
       "{'brand': 'mahindra', 'model': 'bolero neo', 'year': '2020'}"
      ]
     },
     "execution_count": 3,
     "metadata": {},
     "output_type": "execute_result"
    }
   ],
   "source": [
    "car"
   ]
  },
  {
   "cell_type": "code",
   "execution_count": 4,
   "id": "74a19e34-5b35-449d-9f09-6cf3610f4b15",
   "metadata": {},
   "outputs": [],
   "source": [
    "car.clear()"
   ]
  },
  {
   "cell_type": "code",
   "execution_count": 5,
   "id": "ec0e5548-3504-4459-8c2c-7d5a87f782ff",
   "metadata": {},
   "outputs": [
    {
     "data": {
      "text/plain": [
       "{}"
      ]
     },
     "execution_count": 5,
     "metadata": {},
     "output_type": "execute_result"
    }
   ],
   "source": [
    "car"
   ]
  },
  {
   "cell_type": "markdown",
   "id": "e082b018-3d06-421d-857c-2822b3ee5417",
   "metadata": {},
   "source": [
    "# COPY ()"
   ]
  },
  {
   "cell_type": "markdown",
   "id": "30560362-79c0-42bf-9cee-e75c608e1353",
   "metadata": {},
   "source": [
    "* Make a copy of a dictionary with the copy() method."
   ]
  },
  {
   "cell_type": "code",
   "execution_count": 8,
   "id": "7ebdad1c-d858-449b-a35c-54342b63243e",
   "metadata": {},
   "outputs": [],
   "source": [
    "car = {'brand':'mahindra','model':'bolero neo','year':'2020'}"
   ]
  },
  {
   "cell_type": "code",
   "execution_count": 9,
   "id": "b510cae3-76d9-4cc9-9d2e-51c8c1b6bb8c",
   "metadata": {},
   "outputs": [
    {
     "data": {
      "text/plain": [
       "{'brand': 'mahindra', 'model': 'bolero neo', 'year': '2020'}"
      ]
     },
     "execution_count": 9,
     "metadata": {},
     "output_type": "execute_result"
    }
   ],
   "source": [
    "car"
   ]
  },
  {
   "cell_type": "code",
   "execution_count": 10,
   "id": "278f74b7-e9e9-4cb0-9de2-c0331709f10f",
   "metadata": {},
   "outputs": [],
   "source": [
    "car = car.copy()"
   ]
  },
  {
   "cell_type": "code",
   "execution_count": 11,
   "id": "ed76addb-4412-4a9d-ad8a-80e633b542db",
   "metadata": {},
   "outputs": [
    {
     "data": {
      "text/plain": [
       "{'brand': 'mahindra', 'model': 'bolero neo', 'year': '2020'}"
      ]
     },
     "execution_count": 11,
     "metadata": {},
     "output_type": "execute_result"
    }
   ],
   "source": [
    "car"
   ]
  },
  {
   "cell_type": "markdown",
   "id": "805d8602-eee5-4f7d-8912-766c4c38efac",
   "metadata": {},
   "source": [
    "# FROMKEYS()"
   ]
  },
  {
   "cell_type": "markdown",
   "id": "98b1c2de-dacd-463f-9e2b-7dabce682857",
   "metadata": {},
   "source": [
    "* Returns a dictionary with the specified keys and values."
   ]
  },
  {
   "cell_type": "code",
   "execution_count": 15,
   "id": "7e7bd5d3-767e-4191-b414-40e90ac88c20",
   "metadata": {},
   "outputs": [],
   "source": [
    "x = ('ab1','ab2','ab3')\n",
    "y = 0"
   ]
  },
  {
   "cell_type": "code",
   "execution_count": 13,
   "id": "dbecba13-f01c-4329-b5e5-2b5a05e075d1",
   "metadata": {},
   "outputs": [],
   "source": [
    "xy = dict.fromkeys(x,y)"
   ]
  },
  {
   "cell_type": "code",
   "execution_count": 14,
   "id": "b652669d-1b1e-4505-8e9b-3680debaea07",
   "metadata": {},
   "outputs": [
    {
     "data": {
      "text/plain": [
       "{'ab1': 0, 'ab2': 0, 'ab3': 0}"
      ]
     },
     "execution_count": 14,
     "metadata": {},
     "output_type": "execute_result"
    }
   ],
   "source": [
    "xy"
   ]
  },
  {
   "cell_type": "markdown",
   "id": "c69f68da-fe63-4838-81c7-e2d49bcf48ca",
   "metadata": {},
   "source": [
    "* without specified keys and values."
   ]
  },
  {
   "cell_type": "code",
   "execution_count": 16,
   "id": "8a3ee95a-6f61-4b7f-a4b6-a71c2a48f4c6",
   "metadata": {},
   "outputs": [],
   "source": [
    "x = ('ab1','ab2','ab3')"
   ]
  },
  {
   "cell_type": "code",
   "execution_count": 17,
   "id": "6a777667-5eec-4c8d-928f-870772b08e37",
   "metadata": {},
   "outputs": [],
   "source": [
    "x = dict.fromkeys(x)"
   ]
  },
  {
   "cell_type": "code",
   "execution_count": 18,
   "id": "517ea2a4-6122-453f-959a-a67df0ce7642",
   "metadata": {},
   "outputs": [
    {
     "data": {
      "text/plain": [
       "{'ab1': None, 'ab2': None, 'ab3': None}"
      ]
     },
     "execution_count": 18,
     "metadata": {},
     "output_type": "execute_result"
    }
   ],
   "source": [
    "x"
   ]
  },
  {
   "cell_type": "markdown",
   "id": "e4005634-855b-45fb-9e66-a19f7f61b92c",
   "metadata": {},
   "source": [
    "# GET()"
   ]
  },
  {
   "cell_type": "markdown",
   "id": "da305957-7b51-4760-8899-5d0f4630f72b",
   "metadata": {},
   "source": [
    "* the get() method return the value of the item with the specified keys."
   ]
  },
  {
   "cell_type": "code",
   "execution_count": 24,
   "id": "b58da02d-bd0a-47f3-92be-4f238e6ca8d0",
   "metadata": {},
   "outputs": [],
   "source": [
    "car = {'brand':'mahindra','model':'bolero neo','year':'2020'}"
   ]
  },
  {
   "cell_type": "code",
   "execution_count": 25,
   "id": "f63c7dcb-b7bb-450b-948d-9ff806a2068e",
   "metadata": {},
   "outputs": [],
   "source": [
    "car = car.get('model')"
   ]
  },
  {
   "cell_type": "code",
   "execution_count": 26,
   "id": "537623aa-bd06-4560-aeaa-35769836c689",
   "metadata": {},
   "outputs": [
    {
     "data": {
      "text/plain": [
       "'bolero neo'"
      ]
     },
     "execution_count": 26,
     "metadata": {},
     "output_type": "execute_result"
    }
   ],
   "source": [
    "car"
   ]
  },
  {
   "cell_type": "code",
   "execution_count": 27,
   "id": "906b6aad-35c5-4c94-9d22-5c43a0b800c1",
   "metadata": {},
   "outputs": [],
   "source": [
    "car = {'brand':'mahindra','model':'bolero neo','year':'2020'}"
   ]
  },
  {
   "cell_type": "code",
   "execution_count": 28,
   "id": "424e76e1-e750-4094-b690-284139c71dc3",
   "metadata": {},
   "outputs": [],
   "source": [
    "car = car.get('brand')"
   ]
  },
  {
   "cell_type": "code",
   "execution_count": 29,
   "id": "2db42991-4482-4a95-b1dc-6ab459300276",
   "metadata": {},
   "outputs": [
    {
     "data": {
      "text/plain": [
       "'mahindra'"
      ]
     },
     "execution_count": 29,
     "metadata": {},
     "output_type": "execute_result"
    }
   ],
   "source": [
    "car"
   ]
  },
  {
   "cell_type": "markdown",
   "id": "829b432a-e37a-4dd0-bafc-604ea5eee98d",
   "metadata": {},
   "source": [
    "# ITEMS()"
   ]
  },
  {
   "cell_type": "markdown",
   "id": "33039edf-4df3-4416-9198-1bf4a3692e5d",
   "metadata": {},
   "source": [
    "* The items() method returns a view object.the view object contains the key-values pairs of the dictionary ."
   ]
  },
  {
   "cell_type": "code",
   "execution_count": 40,
   "id": "f879ed38-8918-47ae-941c-e73d58af178d",
   "metadata": {},
   "outputs": [],
   "source": [
    "car = {'brand':'mahindra','model':'bolero neo','year':'2020'}"
   ]
  },
  {
   "cell_type": "code",
   "execution_count": 41,
   "id": "eaca6181-6a11-4197-bcb5-3757fa79ed67",
   "metadata": {},
   "outputs": [
    {
     "data": {
      "text/plain": [
       "{'brand': 'mahindra', 'model': 'bolero neo', 'year': '2020'}"
      ]
     },
     "execution_count": 41,
     "metadata": {},
     "output_type": "execute_result"
    }
   ],
   "source": [
    "car"
   ]
  },
  {
   "cell_type": "code",
   "execution_count": 42,
   "id": "59e44238-47fe-4174-89c7-d065a551a759",
   "metadata": {},
   "outputs": [],
   "source": [
    "car = car.items()"
   ]
  },
  {
   "cell_type": "code",
   "execution_count": 43,
   "id": "27678e7e-93cf-4865-b473-1eff0e1ef84f",
   "metadata": {},
   "outputs": [
    {
     "data": {
      "text/plain": [
       "dict_items([('brand', 'mahindra'), ('model', 'bolero neo'), ('year', '2020')])"
      ]
     },
     "execution_count": 43,
     "metadata": {},
     "output_type": "execute_result"
    }
   ],
   "source": [
    "car"
   ]
  },
  {
   "cell_type": "markdown",
   "id": "6c170783-cc91-45e8-9791-600ebf3ccea4",
   "metadata": {},
   "source": [
    "# KEYS()"
   ]
  },
  {
   "cell_type": "markdown",
   "id": "d7bf23b8-2abb-48cc-9282-5668fdad5599",
   "metadata": {},
   "source": [
    "* This method returns a list containing the dictionary keys."
   ]
  },
  {
   "cell_type": "code",
   "execution_count": 80,
   "id": "088b9ff9-50b5-4911-b8d4-ab657166cc04",
   "metadata": {},
   "outputs": [],
   "source": [
    "car = {'brand':'mahindra','model':'bolero neo','year':'2020'}"
   ]
  },
  {
   "cell_type": "code",
   "execution_count": 46,
   "id": "42a790db-7bbf-4a9c-abd1-4249995fbd23",
   "metadata": {},
   "outputs": [
    {
     "data": {
      "text/plain": [
       "{'brand': 'mahindra', 'model': 'bolero neo', 'year': '2020'}"
      ]
     },
     "execution_count": 46,
     "metadata": {},
     "output_type": "execute_result"
    }
   ],
   "source": [
    "car"
   ]
  },
  {
   "cell_type": "code",
   "execution_count": 47,
   "id": "755db63c-ccf8-4d8b-a981-a9acbfaa5aed",
   "metadata": {},
   "outputs": [],
   "source": [
    "car = car.keys()"
   ]
  },
  {
   "cell_type": "code",
   "execution_count": 48,
   "id": "e2d76ca9-f46c-44c3-943d-2751a23437f6",
   "metadata": {},
   "outputs": [
    {
     "data": {
      "text/plain": [
       "dict_keys(['brand', 'model', 'year'])"
      ]
     },
     "execution_count": 48,
     "metadata": {},
     "output_type": "execute_result"
    }
   ],
   "source": [
    "car"
   ]
  },
  {
   "cell_type": "markdown",
   "id": "2bc65c19-90f8-4c7a-ac14-3eb1c534637c",
   "metadata": {},
   "source": [
    "# POP()"
   ]
  },
  {
   "cell_type": "markdown",
   "id": "16c93242-28ff-42a5-a6ab-b77a68f81451",
   "metadata": {},
   "source": [
    "* The pop() method removes the specified item from the dictionary."
   ]
  },
  {
   "attachments": {},
   "cell_type": "raw",
   "id": "beecff41-2470-4216-ae5d-46b346a34664",
   "metadata": {},
   "source": [
    "car = {'brand':'mahindra','model':'bolero neo','year':'2020'}"
   ]
  },
  {
   "cell_type": "code",
   "execution_count": 99,
   "id": "b5931f36-b66f-42a6-8c0b-9b34548d18f6",
   "metadata": {},
   "outputs": [
    {
     "data": {
      "text/plain": [
       "{'model': 'bolero neo', 'year': '2020'}"
      ]
     },
     "execution_count": 99,
     "metadata": {},
     "output_type": "execute_result"
    }
   ],
   "source": [
    "car"
   ]
  },
  {
   "cell_type": "code",
   "execution_count": null,
   "id": "94c483dc-765b-42ce-ad42-d020d71eaf22",
   "metadata": {},
   "outputs": [],
   "source": []
  },
  {
   "cell_type": "raw",
   "id": "f619dea4-5a64-4af2-92f4-dd9a65fb3f1c",
   "metadata": {},
   "source": []
  },
  {
   "cell_type": "code",
   "execution_count": null,
   "id": "575a9d87-0f4f-43d0-97e6-ea0f3b69908b",
   "metadata": {},
   "outputs": [],
   "source": []
  },
  {
   "cell_type": "markdown",
   "id": "bc9e48a9-4fc8-4873-9ef1-5931f89bc4c5",
   "metadata": {},
   "source": [
    "# POPITEMS()"
   ]
  },
  {
   "cell_type": "markdown",
   "id": "6e4b1d4e-e269-4b92-8f7c-37fd19988f19",
   "metadata": {},
   "source": [
    "* This popitems() method removes the last inserted key-value pair."
   ]
  },
  {
   "cell_type": "code",
   "execution_count": 57,
   "id": "8fa556a8-06c6-4eaa-86dc-2bad89805cbd",
   "metadata": {},
   "outputs": [],
   "source": [
    "car = {'brand':'mahindra','model':'bolero neo','year':'2020'}"
   ]
  },
  {
   "cell_type": "code",
   "execution_count": 58,
   "id": "c89914d0-3ebb-4af7-8c12-2d330114eb71",
   "metadata": {},
   "outputs": [
    {
     "data": {
      "text/plain": [
       "{'brand': 'mahindra', 'model': 'bolero neo', 'year': '2020'}"
      ]
     },
     "execution_count": 58,
     "metadata": {},
     "output_type": "execute_result"
    }
   ],
   "source": [
    "car"
   ]
  },
  {
   "cell_type": "code",
   "execution_count": 59,
   "id": "104cf6ff-2c04-46c2-8abd-ad2d4d1412b5",
   "metadata": {},
   "outputs": [
    {
     "data": {
      "text/plain": [
       "('year', '2020')"
      ]
     },
     "execution_count": 59,
     "metadata": {},
     "output_type": "execute_result"
    }
   ],
   "source": [
    "car.popitem()"
   ]
  },
  {
   "cell_type": "code",
   "execution_count": 60,
   "id": "dbb08572-f831-4a2f-9b00-2f109a36406d",
   "metadata": {},
   "outputs": [
    {
     "data": {
      "text/plain": [
       "{'brand': 'mahindra', 'model': 'bolero neo'}"
      ]
     },
     "execution_count": 60,
     "metadata": {},
     "output_type": "execute_result"
    }
   ],
   "source": [
    "car"
   ]
  },
  {
   "cell_type": "markdown",
   "id": "f874cc82-96a7-4e0a-b853-72cd8cf54d10",
   "metadata": {},
   "source": [
    "# SETDEFAULT()"
   ]
  },
  {
   "cell_type": "markdown",
   "id": "5dbdb4d6-aa0b-4edd-99cb-6ec0b2b2eb6c",
   "metadata": {},
   "source": [
    "*The setdefault() method returns the value of the specified key.if the key does not exist: insert the key, with the specified value."
   ]
  },
  {
   "cell_type": "code",
   "execution_count": 71,
   "id": "4ca1a1b3-0888-4f32-adbd-cc148d9e9051",
   "metadata": {},
   "outputs": [],
   "source": [
    "car = {'brand':'mahindra','model':'bolero neo','year':'2020'}"
   ]
  },
  {
   "cell_type": "code",
   "execution_count": 65,
   "id": "6bc2bc35-a392-4c33-ab2e-43f15784a6f6",
   "metadata": {},
   "outputs": [
    {
     "data": {
      "text/plain": [
       "{'brand': 'mahindra', 'model': 'bolero neo', 'year': '2020'}"
      ]
     },
     "execution_count": 65,
     "metadata": {},
     "output_type": "execute_result"
    }
   ],
   "source": [
    "car"
   ]
  },
  {
   "cell_type": "code",
   "execution_count": 68,
   "id": "a9ebeca5-83bb-4be9-a3a6-8f242e545ba6",
   "metadata": {},
   "outputs": [],
   "source": [
    "car = car.setdefault('brand','ford')"
   ]
  },
  {
   "cell_type": "code",
   "execution_count": 69,
   "id": "5445e137-57e3-439d-9f93-139e7a4822a5",
   "metadata": {},
   "outputs": [
    {
     "data": {
      "text/plain": [
       "'mahindra'"
      ]
     },
     "execution_count": 69,
     "metadata": {},
     "output_type": "execute_result"
    }
   ],
   "source": [
    "car"
   ]
  },
  {
   "cell_type": "markdown",
   "id": "c1a7a67a-143b-4fc5-9524-58c192bba90e",
   "metadata": {},
   "source": [
    "# UPDATE()"
   ]
  },
  {
   "cell_type": "markdown",
   "id": "faf8f5de-2ac7-4c56-b1ca-40e33230d7ea",
   "metadata": {},
   "source": [
    "* The updates () mothod updates the dictionary with the specified key-values pairs."
   ]
  },
  {
   "cell_type": "code",
   "execution_count": 76,
   "id": "8cf1f1fa-12a8-4a00-8c77-c310b3312742",
   "metadata": {},
   "outputs": [],
   "source": [
    "car = {'brand':'mahindra','model':'bolero neo','year':'2020'}"
   ]
  },
  {
   "cell_type": "code",
   "execution_count": 72,
   "id": "6723e421-d1a8-4160-afe0-ef0f88a993ff",
   "metadata": {},
   "outputs": [
    {
     "data": {
      "text/plain": [
       "{'brand': 'mahindra', 'model': 'bolero neo', 'year': '2020'}"
      ]
     },
     "execution_count": 72,
     "metadata": {},
     "output_type": "execute_result"
    }
   ],
   "source": [
    "car"
   ]
  },
  {
   "cell_type": "code",
   "execution_count": 73,
   "id": "bb9a94eb-ec21-4d94-b8f3-59d78e4be84c",
   "metadata": {},
   "outputs": [],
   "source": [
    "car.update({'color':'black'})"
   ]
  },
  {
   "cell_type": "code",
   "execution_count": 74,
   "id": "867c536e-383d-4828-bcbc-3a8fe91b46c7",
   "metadata": {},
   "outputs": [
    {
     "data": {
      "text/plain": [
       "{'brand': 'mahindra', 'model': 'bolero neo', 'year': '2020', 'color': 'black'}"
      ]
     },
     "execution_count": 74,
     "metadata": {},
     "output_type": "execute_result"
    }
   ],
   "source": [
    "car"
   ]
  },
  {
   "cell_type": "markdown",
   "id": "1a61ff83-ec25-4bb7-a432-e1bac02db9ab",
   "metadata": {},
   "source": [
    "# VALUES()"
   ]
  },
  {
   "cell_type": "markdown",
   "id": "3d597c6c-0555-45cc-97c9-aa7eeb7e1648",
   "metadata": {},
   "source": [
    "* The values() method returns a view object.the view object contains the values of the dictionary."
   ]
  },
  {
   "cell_type": "code",
   "execution_count": null,
   "id": "271c100e-46ae-4ba9-ac30-0b598ec4f640",
   "metadata": {},
   "outputs": [],
   "source": [
    "car = {'brand':'mahindra','model':'bolero neo','year':'2020'}"
   ]
  },
  {
   "cell_type": "code",
   "execution_count": 77,
   "id": "e197ad15-fa76-40cf-ad00-d3a5c06c0734",
   "metadata": {},
   "outputs": [
    {
     "data": {
      "text/plain": [
       "{'brand': 'mahindra', 'model': 'bolero neo', 'year': '2020'}"
      ]
     },
     "execution_count": 77,
     "metadata": {},
     "output_type": "execute_result"
    }
   ],
   "source": [
    "car"
   ]
  },
  {
   "cell_type": "code",
   "execution_count": 78,
   "id": "e13aec71-613b-4834-aabf-c1fb56565870",
   "metadata": {},
   "outputs": [],
   "source": [
    "car = car.values()"
   ]
  },
  {
   "cell_type": "code",
   "execution_count": 79,
   "id": "24f53a1b-2542-4391-af86-61f5e15bcc1c",
   "metadata": {},
   "outputs": [
    {
     "data": {
      "text/plain": [
       "dict_values(['mahindra', 'bolero neo', '2020'])"
      ]
     },
     "execution_count": 79,
     "metadata": {},
     "output_type": "execute_result"
    }
   ],
   "source": [
    "car"
   ]
  }
 ],
 "metadata": {
  "kernelspec": {
   "display_name": "Python 3 (ipykernel)",
   "language": "python",
   "name": "python3"
  },
  "language_info": {
   "codemirror_mode": {
    "name": "ipython",
    "version": 3
   },
   "file_extension": ".py",
   "mimetype": "text/x-python",
   "name": "python",
   "nbconvert_exporter": "python",
   "pygments_lexer": "ipython3",
   "version": "3.11.7"
  }
 },
 "nbformat": 4,
 "nbformat_minor": 5
}
