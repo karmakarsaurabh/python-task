{
 "cells": [
  {
   "cell_type": "markdown",
   "id": "72ae1056-4ece-4db6-b7dc-7a7f2362e3f0",
   "metadata": {},
   "source": [
    "#  SET FUNCTION"
   ]
  },
  {
   "cell_type": "markdown",
   "id": "ddec5608-b3c4-4964-97d5-ee0691afcd19",
   "metadata": {},
   "source": [
    "# SET ()"
   ]
  },
  {
   "cell_type": "markdown",
   "id": "809f0cf8-964a-4330-9ae2-30b5e24d7dca",
   "metadata": {},
   "source": [
    "* The set() method in Python is used to create a set object. Sets are unordered collections of unique elements. They're useful for removing duplicates from data."
   ]
  },
  {
   "cell_type": "code",
   "execution_count": 3,
   "id": "5e14bea9-62bb-4ba5-934a-5ac2fb3f99c3",
   "metadata": {},
   "outputs": [],
   "source": [
    "my_list = [1, 2, 2, 3, 4, 4, 1]\n"
   ]
  },
  {
   "cell_type": "code",
   "execution_count": 4,
   "id": "e36b1ef8-91c6-4c87-a495-f5f3ffc0ff45",
   "metadata": {},
   "outputs": [
    {
     "name": "stdout",
     "output_type": "stream",
     "text": [
      "[1, 2, 2, 3, 4, 4, 1]\n"
     ]
    }
   ],
   "source": [
    "print(my_list)"
   ]
  },
  {
   "cell_type": "code",
   "execution_count": 5,
   "id": "919c985d-cb40-4d46-bfb9-73f741a0262c",
   "metadata": {},
   "outputs": [
    {
     "data": {
      "text/plain": [
       "{1, 2, 3, 4}"
      ]
     },
     "execution_count": 5,
     "metadata": {},
     "output_type": "execute_result"
    }
   ],
   "source": [
    "set(my_list)"
   ]
  },
  {
   "cell_type": "markdown",
   "id": "fd61e539-3878-4194-96dc-b559896c7fd8",
   "metadata": {},
   "source": [
    "# SET method"
   ]
  },
  {
   "cell_type": "markdown",
   "id": "7e42240a-a95d-4567-9ef0-20a8bfa59a96",
   "metadata": {},
   "source": [
    "# ADD ()"
   ]
  },
  {
   "cell_type": "markdown",
   "id": "95ed0325-f996-4470-8061-5e47bc7232a4",
   "metadata": {},
   "source": [
    "* Add an item to set use the  add() method"
   ]
  },
  {
   "cell_type": "code",
   "execution_count": 20,
   "id": "89233dad-263c-4e82-aa4b-5897aef729d6",
   "metadata": {},
   "outputs": [],
   "source": [
    "\n",
    "set = {'chiku', 'cocount','apple'}"
   ]
  },
  {
   "cell_type": "code",
   "execution_count": 17,
   "id": "e12190a4-f67c-40cf-a479-5b0ccef1458b",
   "metadata": {},
   "outputs": [
    {
     "data": {
      "text/plain": [
       "{'apple', 'chiku', 'cocount'}"
      ]
     },
     "execution_count": 17,
     "metadata": {},
     "output_type": "execute_result"
    }
   ],
   "source": [
    "set"
   ]
  },
  {
   "cell_type": "code",
   "execution_count": 18,
   "id": "7f4c361c-525f-496c-93b7-b69cfaa68c3b",
   "metadata": {},
   "outputs": [],
   "source": [
    "set.add('banana')"
   ]
  },
  {
   "cell_type": "code",
   "execution_count": 19,
   "id": "8d34eb32-c2fc-49f1-bee0-098b51624a8a",
   "metadata": {},
   "outputs": [
    {
     "data": {
      "text/plain": [
       "{'apple', 'banana', 'chiku', 'cocount'}"
      ]
     },
     "execution_count": 19,
     "metadata": {},
     "output_type": "execute_result"
    }
   ],
   "source": [
    "set"
   ]
  },
  {
   "cell_type": "markdown",
   "id": "44f0240e-8196-4dff-9b89-2e0c47f4d6d2",
   "metadata": {},
   "source": [
    "# CLEAR ()"
   ]
  },
  {
   "cell_type": "markdown",
   "id": "c225cc01-6828-45e7-9a58-aa2f80c6e517",
   "metadata": {},
   "source": [
    "* Remove all the elements from the set."
   ]
  },
  {
   "cell_type": "code",
   "execution_count": null,
   "id": "16ffd466-7f8b-4be7-ba05-4f46da1ea860",
   "metadata": {},
   "outputs": [],
   "source": [
    "set = {'chiku', 'cocount','apple'}"
   ]
  },
  {
   "cell_type": "code",
   "execution_count": 21,
   "id": "cc839dfa-e991-4cad-922a-40bb99a3baee",
   "metadata": {},
   "outputs": [
    {
     "name": "stdout",
     "output_type": "stream",
     "text": [
      "{'chiku', 'cocount', 'apple'}\n"
     ]
    }
   ],
   "source": [
    "print(set)"
   ]
  },
  {
   "cell_type": "code",
   "execution_count": 22,
   "id": "531755b0-6e0a-44fe-80cd-2f758aac9557",
   "metadata": {},
   "outputs": [],
   "source": [
    "set.clear()"
   ]
  },
  {
   "cell_type": "code",
   "execution_count": 23,
   "id": "b2caeb38-6f02-4ceb-9db3-a8510560f875",
   "metadata": {},
   "outputs": [
    {
     "name": "stdout",
     "output_type": "stream",
     "text": [
      "set()\n"
     ]
    }
   ],
   "source": [
    "print(set)"
   ]
  },
  {
   "cell_type": "markdown",
   "id": "00040007-e709-4894-acb0-c65fae130006",
   "metadata": {},
   "source": [
    "# COPY ()"
   ]
  },
  {
   "cell_type": "markdown",
   "id": "89df4576-3948-4917-aed5-079e9881f4c4",
   "metadata": {},
   "source": [
    "* Returns a copy of the set."
   ]
  },
  {
   "cell_type": "code",
   "execution_count": 39,
   "id": "a6f7a0a7-5b55-4f1c-9af4-b6159e0c4758",
   "metadata": {},
   "outputs": [],
   "source": [
    "set = {'chiku', 'cocount','apple'}"
   ]
  },
  {
   "cell_type": "code",
   "execution_count": 26,
   "id": "4ea37446-26a9-4723-8cd2-457aa2dd7d06",
   "metadata": {},
   "outputs": [
    {
     "name": "stdout",
     "output_type": "stream",
     "text": [
      "{'chiku', 'cocount', 'apple'}\n"
     ]
    }
   ],
   "source": [
    "print(set)"
   ]
  },
  {
   "cell_type": "code",
   "execution_count": 27,
   "id": "4564d5ef-c3f8-46c6-ad04-1c213be1f9de",
   "metadata": {},
   "outputs": [
    {
     "data": {
      "text/plain": [
       "{'apple', 'chiku', 'cocount'}"
      ]
     },
     "execution_count": 27,
     "metadata": {},
     "output_type": "execute_result"
    }
   ],
   "source": [
    "set.copy()"
   ]
  },
  {
   "cell_type": "markdown",
   "id": "4475b3cb-86dd-43d2-b050-e895b12a61eb",
   "metadata": {},
   "source": [
    "# DIFFERENCE ()"
   ]
  },
  {
   "cell_type": "markdown",
   "id": "1d125d4e-b51c-43fc-b273-341b687d9418",
   "metadata": {},
   "source": [
    "* The difference() method returns a set that contains the difference between two sets."
   ]
  },
  {
   "cell_type": "code",
   "execution_count": 35,
   "id": "2adaf41e-32ea-43e2-b9af-e441e5f7d078",
   "metadata": {},
   "outputs": [],
   "source": [
    "set1 = {'chiku', 'cocount','apple'}\n",
    "set2 = {'xyz','abc','chiku'}"
   ]
  },
  {
   "cell_type": "code",
   "execution_count": 33,
   "id": "b8e534ea-e596-45a3-87ba-b007896ae430",
   "metadata": {},
   "outputs": [
    {
     "data": {
      "text/plain": [
       "{'apple', 'cocount'}"
      ]
     },
     "execution_count": 33,
     "metadata": {},
     "output_type": "execute_result"
    }
   ],
   "source": [
    "set1.difference(set2)"
   ]
  },
  {
   "cell_type": "markdown",
   "id": "319da19d-4ddc-4012-96cc-395e02daf347",
   "metadata": {},
   "source": [
    "# DIFFERENCE UPDATE ()"
   ]
  },
  {
   "cell_type": "markdown",
   "id": "c8e68e3f-5849-4bac-8ac7-d9ccdacfde6d",
   "metadata": {},
   "source": [
    "* The difference update () removes the items in this set that are also inculded in another,specified set."
   ]
  },
  {
   "cell_type": "code",
   "execution_count": 43,
   "id": "bff91ba2-f303-4c8c-8774-dac56c702195",
   "metadata": {},
   "outputs": [],
   "source": [
    "set1 = {'chiku', 'cocount','apple'}\n",
    "set2 = {'xyz','abc','chiku'}"
   ]
  },
  {
   "cell_type": "code",
   "execution_count": 37,
   "id": "df93c4c4-b1db-443e-98ee-a1e1841068e9",
   "metadata": {},
   "outputs": [],
   "source": [
    "set1.difference_update(set2)"
   ]
  },
  {
   "cell_type": "code",
   "execution_count": 38,
   "id": "dfd70744-4e81-4abe-a521-5a3e52182ac7",
   "metadata": {},
   "outputs": [
    {
     "name": "stdout",
     "output_type": "stream",
     "text": [
      "{'cocount', 'apple'}\n"
     ]
    }
   ],
   "source": [
    "print(set1)"
   ]
  },
  {
   "cell_type": "markdown",
   "id": "fb51b164-b8c0-4bff-b32b-4919b00af8d2",
   "metadata": {},
   "source": [
    "# DISCARD ()"
   ]
  },
  {
   "cell_type": "markdown",
   "id": "0423e5c0-5163-4f85-8746-737d08722b7e",
   "metadata": {},
   "source": [
    "* The discard () remove the specified item from set ."
   ]
  },
  {
   "cell_type": "code",
   "execution_count": 65,
   "id": "cc4268aa-b228-4f5d-b678-49578545360c",
   "metadata": {},
   "outputs": [],
   "source": [
    "set = {'chiku', 'cocount','apple'}"
   ]
  },
  {
   "cell_type": "code",
   "execution_count": 40,
   "id": "7521ab3b-d065-4510-a5e9-ea7a04bb24ff",
   "metadata": {},
   "outputs": [
    {
     "data": {
      "text/plain": [
       "{'apple', 'chiku', 'cocount'}"
      ]
     },
     "execution_count": 40,
     "metadata": {},
     "output_type": "execute_result"
    }
   ],
   "source": [
    "set"
   ]
  },
  {
   "cell_type": "code",
   "execution_count": 41,
   "id": "2c837731-c11c-484f-b4a4-3ca5f3a6b16a",
   "metadata": {},
   "outputs": [],
   "source": [
    "set.discard('cocount')"
   ]
  },
  {
   "cell_type": "code",
   "execution_count": 42,
   "id": "1f84e643-d117-490d-8d7b-26627cad08ef",
   "metadata": {},
   "outputs": [
    {
     "name": "stdout",
     "output_type": "stream",
     "text": [
      "{'chiku', 'apple'}\n"
     ]
    }
   ],
   "source": [
    "print (set)"
   ]
  },
  {
   "cell_type": "markdown",
   "id": "2b67051d-c163-4001-b1a8-95374e3947e5",
   "metadata": {},
   "source": [
    "# INTERSECTION ()"
   ]
  },
  {
   "cell_type": "markdown",
   "id": "f1655a74-4c2e-4443-976c-03986cc4bfa3",
   "metadata": {},
   "source": [
    "* The intersection () method returns a set that contains the similarity between two or more sets."
   ]
  },
  {
   "cell_type": "code",
   "execution_count": 49,
   "id": "c8575865-20c6-49df-8d58-6399e50e85f9",
   "metadata": {},
   "outputs": [],
   "source": [
    "set1 = {'chiku', 'cocount','apple'}\n",
    "set2 = {'xyz','abc','chiku'}"
   ]
  },
  {
   "cell_type": "code",
   "execution_count": 44,
   "id": "258f08b8-563c-4ea5-aba3-5241c3bf8a1f",
   "metadata": {},
   "outputs": [
    {
     "data": {
      "text/plain": [
       "{'chiku'}"
      ]
     },
     "execution_count": 44,
     "metadata": {},
     "output_type": "execute_result"
    }
   ],
   "source": [
    "set1.intersection(set2)"
   ]
  },
  {
   "cell_type": "markdown",
   "id": "031919d4-1247-4a8c-a4e6-487ba7ee17ac",
   "metadata": {},
   "source": [
    "# INTERSECTION_UPDATE ()"
   ]
  },
  {
   "cell_type": "markdown",
   "id": "0173e9f9-b4fd-4095-a448-c2b17827d506",
   "metadata": {},
   "source": [
    "* The intersection_update () method removes the items that is not present in both sets(or in allsets if the comparison in done between more than tow sets)."
   ]
  },
  {
   "cell_type": "code",
   "execution_count": 48,
   "id": "0e0a6345-b0fe-4004-99a4-cc5e8a188f39",
   "metadata": {},
   "outputs": [],
   "source": [
    "set1 = {'chiku', 'cocount','apple'}\n",
    "set2 = {'xyz','abc','cocount'}"
   ]
  },
  {
   "cell_type": "code",
   "execution_count": 46,
   "id": "c2714273-aea2-472f-bba7-0c62b43be3f7",
   "metadata": {},
   "outputs": [],
   "source": [
    "set1.intersection_update(set2)"
   ]
  },
  {
   "cell_type": "code",
   "execution_count": 47,
   "id": "744dd656-de4b-429a-8eaa-2812e1a6d749",
   "metadata": {},
   "outputs": [
    {
     "name": "stdout",
     "output_type": "stream",
     "text": [
      "{'cocount'}\n"
     ]
    }
   ],
   "source": [
    "print(set1)"
   ]
  },
  {
   "cell_type": "markdown",
   "id": "878d265e-8326-4e3f-9915-ce5c0827d86c",
   "metadata": {},
   "source": [
    "# ISDISJOiNT ()"
   ]
  },
  {
   "cell_type": "markdown",
   "id": "99d3d235-803a-41b5-9eb4-7c6476cd1c1c",
   "metadata": {},
   "source": [
    "* The isdisjoint () method returns true if none of the items are present in bot sets,otherwise it returns False."
   ]
  },
  {
   "cell_type": "code",
   "execution_count": 84,
   "id": "cf18413e-536c-40b8-9dd6-1ba01a463d2a",
   "metadata": {},
   "outputs": [],
   "source": [
    "set1 = {'chiku', 'cocount','apple'}\n",
    "set2 = {'xyz','abc','cocount'}"
   ]
  },
  {
   "cell_type": "code",
   "execution_count": 51,
   "id": "fdc441cf-160b-4ec0-a688-b628c85ca480",
   "metadata": {},
   "outputs": [
    {
     "data": {
      "text/plain": [
       "False"
      ]
     },
     "execution_count": 51,
     "metadata": {},
     "output_type": "execute_result"
    }
   ],
   "source": [
    "set.isdisjoint(set2)"
   ]
  },
  {
   "cell_type": "code",
   "execution_count": 52,
   "id": "0b21bda7-7f55-42b0-8146-3da49dc3987f",
   "metadata": {},
   "outputs": [],
   "source": [
    "set1 = {'chiku', 'cocount','apple'}\n",
    "set2 = {'xyz','abc','123'}"
   ]
  },
  {
   "cell_type": "code",
   "execution_count": 53,
   "id": "2397493e-7135-4c9a-999b-8dde59de4158",
   "metadata": {},
   "outputs": [
    {
     "data": {
      "text/plain": [
       "True"
      ]
     },
     "execution_count": 53,
     "metadata": {},
     "output_type": "execute_result"
    }
   ],
   "source": [
    "set.isdisjoint(set2)"
   ]
  },
  {
   "cell_type": "markdown",
   "id": "aba89322-36b7-425d-8c7e-ad9b2bdb1c97",
   "metadata": {},
   "source": [
    "# ISSUBSET ()"
   ]
  },
  {
   "cell_type": "markdown",
   "id": "5b875101-4946-4fd0-ad4c-d0f4bbae8ae8",
   "metadata": {},
   "source": [
    "* The issubset () method returns true if all items in the set exists in the specified set ,otherwise it returns fales."
   ]
  },
  {
   "cell_type": "code",
   "execution_count": 59,
   "id": "fe13692a-4c7c-440c-a1f5-0559c6590934",
   "metadata": {},
   "outputs": [],
   "source": [
    "x = {'a','b','c'}\n",
    "y = {'f','e','d','c','b','a'}"
   ]
  },
  {
   "cell_type": "code",
   "execution_count": 58,
   "id": "81312b78-165d-4a49-964b-45ea78f189ba",
   "metadata": {},
   "outputs": [
    {
     "data": {
      "text/plain": [
       "True"
      ]
     },
     "execution_count": 58,
     "metadata": {},
     "output_type": "execute_result"
    }
   ],
   "source": [
    "x.issubset(y)"
   ]
  },
  {
   "cell_type": "markdown",
   "id": "41029615-f18b-4c8a-9cc9-3af48160b4a3",
   "metadata": {},
   "source": [
    "# ISSUPERSET ()"
   ]
  },
  {
   "cell_type": "markdown",
   "id": "a348bb25-a373-4190-83ba-48ea3da12f44",
   "metadata": {},
   "source": [
    "* The issuperset () method returns true if all items in the specified aet exists in the orginal set, otherwise it returns fales."
   ]
  },
  {
   "cell_type": "code",
   "execution_count": 64,
   "id": "092f7b41-47fd-44bd-ad64-65e3a520f184",
   "metadata": {},
   "outputs": [],
   "source": [
    "x = {'f','e','d','c','b','a'}\n",
    "y = {'a','b','c'}"
   ]
  },
  {
   "cell_type": "code",
   "execution_count": 61,
   "id": "6893d34b-2356-4c49-9193-dd2d1149d06b",
   "metadata": {},
   "outputs": [
    {
     "data": {
      "text/plain": [
       "True"
      ]
     },
     "execution_count": 61,
     "metadata": {},
     "output_type": "execute_result"
    }
   ],
   "source": [
    "x.issuperset(y)"
   ]
  },
  {
   "cell_type": "code",
   "execution_count": 62,
   "id": "39735396-781f-4013-a25e-2ead68b26dd5",
   "metadata": {},
   "outputs": [],
   "source": [
    "x = {'f','e','d','c','b'}\n",
    "y = {'a','b','c'}"
   ]
  },
  {
   "cell_type": "code",
   "execution_count": 63,
   "id": "e56085ef-ed70-4dcc-a74b-f4e65874a8f3",
   "metadata": {},
   "outputs": [
    {
     "data": {
      "text/plain": [
       "False"
      ]
     },
     "execution_count": 63,
     "metadata": {},
     "output_type": "execute_result"
    }
   ],
   "source": [
    "x.issuperset(y)"
   ]
  },
  {
   "cell_type": "markdown",
   "id": "5794b3cb-1698-4f6c-90a1-d8ebe102f817",
   "metadata": {},
   "source": [
    "# POP ()"
   ]
  },
  {
   "cell_type": "markdown",
   "id": "257530cb-51d2-4a61-b66f-4ad86dced204",
   "metadata": {},
   "source": [
    "* The pop () method removes a random items from the set ."
   ]
  },
  {
   "cell_type": "code",
   "execution_count": 94,
   "id": "521f9f6a-7242-4ef5-a1b7-1075d1dc4b76",
   "metadata": {},
   "outputs": [],
   "source": [
    "set = {'chiku', 'cocount','apple'}"
   ]
  },
  {
   "cell_type": "code",
   "execution_count": 73,
   "id": "b6e099c0-7d72-4ebe-8693-73c4ccfe0196",
   "metadata": {},
   "outputs": [
    {
     "data": {
      "text/plain": [
       "'chiku'"
      ]
     },
     "execution_count": 73,
     "metadata": {},
     "output_type": "execute_result"
    }
   ],
   "source": [
    "set.pop()"
   ]
  },
  {
   "cell_type": "code",
   "execution_count": 74,
   "id": "7db96105-a87e-4505-8c92-3a01c8433c65",
   "metadata": {},
   "outputs": [
    {
     "data": {
      "text/plain": [
       "{'apple', 'cocount'}"
      ]
     },
     "execution_count": 74,
     "metadata": {},
     "output_type": "execute_result"
    }
   ],
   "source": [
    "set"
   ]
  },
  {
   "cell_type": "markdown",
   "id": "26ac8884-5a2f-4b01-bda3-b56d70e7c6b8",
   "metadata": {},
   "source": [
    "# REMOVE ()"
   ]
  },
  {
   "cell_type": "markdown",
   "id": "59ee906f-3141-4315-af29-b19eed8d1976",
   "metadata": {},
   "source": [
    "* The remove() method removes the specified element from set."
   ]
  },
  {
   "cell_type": "code",
   "execution_count": 80,
   "id": "f1144b6f-1303-4a32-a195-8042f9662de1",
   "metadata": {},
   "outputs": [],
   "source": [
    "set = {'chiku', 'cocount','apple'}"
   ]
  },
  {
   "cell_type": "code",
   "execution_count": 81,
   "id": "c69bc3b1-eb97-42e4-b32c-52db03ee6d1e",
   "metadata": {},
   "outputs": [
    {
     "data": {
      "text/plain": [
       "{'apple', 'chiku', 'cocount'}"
      ]
     },
     "execution_count": 81,
     "metadata": {},
     "output_type": "execute_result"
    }
   ],
   "source": [
    "set"
   ]
  },
  {
   "cell_type": "code",
   "execution_count": 82,
   "id": "99035949-9698-4b36-a6db-3fc84a42d7d8",
   "metadata": {},
   "outputs": [],
   "source": [
    "set.remove('chiku')"
   ]
  },
  {
   "cell_type": "code",
   "execution_count": 83,
   "id": "35e61ac9-6071-43b5-9408-95db1a341012",
   "metadata": {},
   "outputs": [
    {
     "data": {
      "text/plain": [
       "{'apple', 'cocount'}"
      ]
     },
     "execution_count": 83,
     "metadata": {},
     "output_type": "execute_result"
    }
   ],
   "source": [
    "set"
   ]
  },
  {
   "cell_type": "markdown",
   "id": "a2cb02d2-b18a-4b54-80bc-b329f4577311",
   "metadata": {},
   "source": [
    "# SYMMETRIC_DIFFERENCE ()"
   ]
  },
  {
   "cell_type": "markdown",
   "id": "ab5e9aba-d1b0-450d-a3c1-559ea90d905d",
   "metadata": {},
   "source": [
    "* The symmetric_difference () method returns a set that contains all items from both set,but not the items that are persent in both sets."
   ]
  },
  {
   "cell_type": "code",
   "execution_count": 91,
   "id": "83e4b990-5d41-4a96-a9a3-9292c6e04645",
   "metadata": {},
   "outputs": [],
   "source": [
    "set1 = {'chiku', 'cocount','apple'}\n",
    "set2 = {'xyz','abc','cocount'}"
   ]
  },
  {
   "cell_type": "code",
   "execution_count": 85,
   "id": "1ea0e6d1-3130-41cd-a639-c3b8c8c47163",
   "metadata": {},
   "outputs": [
    {
     "data": {
      "text/plain": [
       "{'abc', 'apple', 'chiku', 'xyz'}"
      ]
     },
     "execution_count": 85,
     "metadata": {},
     "output_type": "execute_result"
    }
   ],
   "source": [
    "set1.symmetric_difference(set2)"
   ]
  },
  {
   "cell_type": "markdown",
   "id": "d963b8c7-3487-46ca-9cdf-d3be10507657",
   "metadata": {},
   "source": [
    "# SYMMETRIC_DIFFERENCE_UPDATE ()"
   ]
  },
  {
   "cell_type": "markdown",
   "id": "fca86fd3-c9eb-425d-8dd9-48c176ee65b8",
   "metadata": {},
   "source": [
    "* The symmetric_difference_update () method update the original set by removing that are present in both sets,and inserting the other items."
   ]
  },
  {
   "cell_type": "code",
   "execution_count": 88,
   "id": "d724cc67-7368-475e-8f55-4d0db18560c3",
   "metadata": {},
   "outputs": [],
   "source": [
    "set1 = {'chiku', 'cocount','apple'}\n",
    "set2 = {'xyz','abc','chiku'}"
   ]
  },
  {
   "cell_type": "code",
   "execution_count": 89,
   "id": "88ae5d6e-108d-4e38-970f-d3b24498503d",
   "metadata": {},
   "outputs": [],
   "source": [
    "set1.symmetric_difference_update(set2)"
   ]
  },
  {
   "cell_type": "code",
   "execution_count": 90,
   "id": "945fe2ee-76ce-42f5-8b83-d54264c119bf",
   "metadata": {},
   "outputs": [
    {
     "data": {
      "text/plain": [
       "{'abc', 'apple', 'cocount', 'xyz'}"
      ]
     },
     "execution_count": 90,
     "metadata": {},
     "output_type": "execute_result"
    }
   ],
   "source": [
    "set1"
   ]
  },
  {
   "cell_type": "markdown",
   "id": "8564b800-f8f4-4976-a657-65c7eba10d0d",
   "metadata": {},
   "source": [
    "# UNION ()"
   ]
  },
  {
   "cell_type": "markdown",
   "id": "4134d5b0-34a4-4a95-adf6-0a783aaef52c",
   "metadata": {},
   "source": [
    "* The union () method returns a set that contains all items from the original set,all items from the speicfied set(s)."
   ]
  },
  {
   "cell_type": "code",
   "execution_count": 92,
   "id": "920216fa-3a77-41c8-8c35-edf337691a64",
   "metadata": {},
   "outputs": [],
   "source": [
    "set1 = {'chiku', 'cocount','apple'}\n",
    "set2 = {'xyz','abc','cocount'}"
   ]
  },
  {
   "cell_type": "code",
   "execution_count": 93,
   "id": "7fb84d73-95bc-4fcd-bc7b-c07efafa889a",
   "metadata": {},
   "outputs": [
    {
     "data": {
      "text/plain": [
       "{'abc', 'apple', 'cocount', 'xyz'}"
      ]
     },
     "execution_count": 93,
     "metadata": {},
     "output_type": "execute_result"
    }
   ],
   "source": [
    "set.union(set2)"
   ]
  },
  {
   "cell_type": "markdown",
   "id": "2e5da45c-b2bf-4909-97b4-c5039094139a",
   "metadata": {},
   "source": [
    "# UPDATE ()"
   ]
  },
  {
   "cell_type": "markdown",
   "id": "8208f5fe-cd3d-4be0-9b96-e774602d199e",
   "metadata": {},
   "source": [
    "* The update() method update the current set,by adding items from another set (or any other iterable)."
   ]
  },
  {
   "cell_type": "code",
   "execution_count": 95,
   "id": "39f85d2e-5545-40ac-8e22-40fc5b70e2a1",
   "metadata": {},
   "outputs": [],
   "source": [
    "set1 = {'chiku', 'cocount','apple'}\n",
    "set2 = {'xyz','abc','cocount'}"
   ]
  },
  {
   "cell_type": "code",
   "execution_count": 99,
   "id": "451cf3ec-e826-4080-80bb-d750f4ef80bf",
   "metadata": {},
   "outputs": [],
   "source": [
    "set1.update(set2)"
   ]
  },
  {
   "cell_type": "code",
   "execution_count": 100,
   "id": "1ce27c65-56ff-430d-b1f1-d449e12c4939",
   "metadata": {},
   "outputs": [
    {
     "name": "stdout",
     "output_type": "stream",
     "text": [
      "{'chiku', 'cocount', 'abc', 'xyz', 'apple'}\n"
     ]
    }
   ],
   "source": [
    "print(set1)"
   ]
  }
 ],
 "metadata": {
  "kernelspec": {
   "display_name": "Python 3 (ipykernel)",
   "language": "python",
   "name": "python3"
  },
  "language_info": {
   "codemirror_mode": {
    "name": "ipython",
    "version": 3
   },
   "file_extension": ".py",
   "mimetype": "text/x-python",
   "name": "python",
   "nbconvert_exporter": "python",
   "pygments_lexer": "ipython3",
   "version": "3.11.7"
  }
 },
 "nbformat": 4,
 "nbformat_minor": 5
}
