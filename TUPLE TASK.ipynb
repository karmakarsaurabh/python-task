{
 "cells": [
  {
   "cell_type": "markdown",
   "id": "7c881d36-338b-4af9-9606-66bfadeb9db4",
   "metadata": {},
   "source": [
    "# TUPLE "
   ]
  },
  {
   "cell_type": "markdown",
   "id": "6cb45430-ad11-4b2f-acf5-62aafd42ffda",
   "metadata": {},
   "source": [
    "* Creat Tuple"
   ]
  },
  {
   "cell_type": "code",
   "execution_count": 5,
   "id": "c1d535ae-e549-416e-bce5-0f26888d9001",
   "metadata": {},
   "outputs": [],
   "source": [
    "a1 = ('tomato','potato','cabbage')"
   ]
  },
  {
   "cell_type": "code",
   "execution_count": 6,
   "id": "f6d349f0-7c2f-46dd-9081-1ac6a38d7020",
   "metadata": {},
   "outputs": [
    {
     "name": "stdout",
     "output_type": "stream",
     "text": [
      "('tomato', 'potato', 'cabbage')\n"
     ]
    }
   ],
   "source": [
    "print(a1)"
   ]
  },
  {
   "cell_type": "markdown",
   "id": "e9428676-8293-4f3f-b3c7-867ad8881ade",
   "metadata": {},
   "source": [
    "#  LEN() FUNCTION"
   ]
  },
  {
   "cell_type": "markdown",
   "id": "2a8b2d97-c4a4-46d7-8239-c33d0ed0937c",
   "metadata": {},
   "source": [
    "* this function returns the number of element present in a tuple."
   ]
  },
  {
   "cell_type": "code",
   "execution_count": 7,
   "id": "c7e77d8c-a323-48c3-b2ca-9269c07dc926",
   "metadata": {},
   "outputs": [],
   "source": [
    "a1 = ('tomato','potato','cabbage')"
   ]
  },
  {
   "cell_type": "code",
   "execution_count": 8,
   "id": "1ae9b841-f4cf-422e-be7f-06e4f0df9800",
   "metadata": {},
   "outputs": [],
   "source": [
    "a1 = len(a1)"
   ]
  },
  {
   "cell_type": "code",
   "execution_count": 9,
   "id": "6d7a7f66-f08f-426b-a7d4-02d083133383",
   "metadata": {},
   "outputs": [
    {
     "name": "stdout",
     "output_type": "stream",
     "text": [
      "3\n"
     ]
    }
   ],
   "source": [
    "print(a1)"
   ]
  },
  {
   "cell_type": "markdown",
   "id": "4372df50-6008-443d-977d-3fd6ae461820",
   "metadata": {},
   "source": [
    "# COUNT() FUNCTION"
   ]
  },
  {
   "cell_type": "markdown",
   "id": "655415f9-cf2d-4d9a-95fb-60e34e89fcb3",
   "metadata": {},
   "source": [
    "* this function will help us to found the number of time an element is present in the truple."
   ]
  },
  {
   "cell_type": "code",
   "execution_count": 12,
   "id": "852bdc48-cb9a-4586-8691-d5cb5720006e",
   "metadata": {},
   "outputs": [],
   "source": [
    "a1 = (22,45,23,78,22,22,6.83)"
   ]
  },
  {
   "cell_type": "code",
   "execution_count": 13,
   "id": "d337ec73-5074-4198-889b-4050cafaa321",
   "metadata": {},
   "outputs": [
    {
     "data": {
      "text/plain": [
       "3"
      ]
     },
     "execution_count": 13,
     "metadata": {},
     "output_type": "execute_result"
    }
   ],
   "source": [
    "a1.count(22)"
   ]
  },
  {
   "cell_type": "markdown",
   "id": "957b86fa-8f40-4f9a-9c71-8aed06c839cc",
   "metadata": {},
   "source": [
    "# INDEX() FUNCTION"
   ]
  },
  {
   "cell_type": "markdown",
   "id": "3a868bc0-c211-48a4-bc1b-3095e8241976",
   "metadata": {},
   "source": [
    "* this  index() method helps us to find the index or occurrence of an element in the tuple."
   ]
  },
  {
   "cell_type": "code",
   "execution_count": 20,
   "id": "787f5de1-c797-471d-a009-6a1a88a0ce69",
   "metadata": {},
   "outputs": [],
   "source": [
    "a1 = ( 1,3,7,5,8,3,5,9,1,2)"
   ]
  },
  {
   "cell_type": "code",
   "execution_count": 21,
   "id": "4bcb905e-7e50-45b6-b044-0ac6a13ca936",
   "metadata": {},
   "outputs": [],
   "source": [
    "a1 = a1.index(5)"
   ]
  },
  {
   "cell_type": "code",
   "execution_count": 22,
   "id": "135eb508-2d81-46eb-9eab-64da75d4b7e6",
   "metadata": {},
   "outputs": [
    {
     "name": "stdout",
     "output_type": "stream",
     "text": [
      "3\n"
     ]
    }
   ],
   "source": [
    "print(a1)"
   ]
  },
  {
   "cell_type": "markdown",
   "id": "3bcebd02-12bf-468f-9619-1cb387341417",
   "metadata": {},
   "source": [
    "# SORTED() FUNCTION"
   ]
  },
  {
   "cell_type": "code",
   "execution_count": null,
   "id": "4f46a189-9910-4145-86d7-3c893458442e",
   "metadata": {},
   "outputs": [],
   "source": [
    "* this method takes a tuple as an input and returns a sorted list as an output"
   ]
  },
  {
   "cell_type": "code",
   "execution_count": 23,
   "id": "1b720b69-5883-4f5e-9a3b-72e090862554",
   "metadata": {},
   "outputs": [],
   "source": [
    "a1 = (22,3, 35, 4,2.4,2,56,90,1)"
   ]
  },
  {
   "cell_type": "code",
   "execution_count": 24,
   "id": "795a5ab3-f960-4482-8809-f8f4493ac797",
   "metadata": {},
   "outputs": [],
   "source": [
    "a1 = sorted(a1)"
   ]
  },
  {
   "cell_type": "code",
   "execution_count": 25,
   "id": "e82e6d25-a32f-4dd7-88ae-1de771b0f26c",
   "metadata": {},
   "outputs": [
    {
     "name": "stdout",
     "output_type": "stream",
     "text": [
      "[1, 2, 2.4, 3, 4, 22, 35, 56, 90]\n"
     ]
    }
   ],
   "source": [
    "print(a1)"
   ]
  }
 ],
 "metadata": {
  "kernelspec": {
   "display_name": "Python 3 (ipykernel)",
   "language": "python",
   "name": "python3"
  },
  "language_info": {
   "codemirror_mode": {
    "name": "ipython",
    "version": 3
   },
   "file_extension": ".py",
   "mimetype": "text/x-python",
   "name": "python",
   "nbconvert_exporter": "python",
   "pygments_lexer": "ipython3",
   "version": "3.11.7"
  }
 },
 "nbformat": 4,
 "nbformat_minor": 5
}
