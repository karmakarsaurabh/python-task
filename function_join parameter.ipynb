{
 "cells": [
  {
   "cell_type": "code",
   "execution_count": 26,
   "id": "4da19417-c487-4f8d-9e74-692c9a323f1d",
   "metadata": {},
   "outputs": [
    {
     "name": "stdout",
     "output_type": "stream",
     "text": [
      "this is a dictionary\n",
      "{'key1': 'SAU', 'key2': 'RAB', 'key3': 'HKA', 'joinname': 'SAURABHKA'}\n"
     ]
    }
   ],
   "source": [
    " print('this is a dictionary')\n",
    "\n",
    " def create_dict(param1, param2, param3):\n",
    "     join_name = f'{param1}{param2}{param3}'\n",
    "     result = {\n",
    "     'key1': param1,\n",
    "     'key2': param2,\n",
    "     'key3': param3,\n",
    "     'joinname':join_name\n",
    "  }\n",
    "     return result\n",
    "\n",
    "\n",
    "param1 = \"SAU\"\n",
    "param2 = \"RAB\"\n",
    "param3 = \"HKA\"\n",
    "output = create_dict(param1, param2, param3)\n",
    "\n",
    "\n",
    "print(output)\n",
    "\n",
    "\n",
    "\n",
    "\n",
    "\n"
   ]
  }
 ],
 "metadata": {
  "kernelspec": {
   "display_name": "Python 3 (ipykernel)",
   "language": "python",
   "name": "python3"
  },
  "language_info": {
   "codemirror_mode": {
    "name": "ipython",
    "version": 3
   },
   "file_extension": ".py",
   "mimetype": "text/x-python",
   "name": "python",
   "nbconvert_exporter": "python",
   "pygments_lexer": "ipython3",
   "version": "3.11.7"
  }
 },
 "nbformat": 4,
 "nbformat_minor": 5
}
