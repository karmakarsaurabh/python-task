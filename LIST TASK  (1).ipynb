{
 "cells": [
  {
   "cell_type": "markdown",
   "id": "be3d6159-39bf-4546-8e69-a412acd7f690",
   "metadata": {},
   "source": [
    "# LIST"
   ]
  },
  {
   "cell_type": "markdown",
   "id": "1c46d1ba-4f54-47a0-927f-f363424f97a2",
   "metadata": {},
   "source": [
    "# empty list"
   ]
  },
  {
   "cell_type": "code",
   "execution_count": 23,
   "id": "6b78b147-55c9-42f2-93ca-9500849503a2",
   "metadata": {},
   "outputs": [
    {
     "data": {
      "text/plain": [
       "[]"
      ]
     },
     "execution_count": 23,
     "metadata": {},
     "output_type": "execute_result"
    }
   ],
   "source": [
    "[]\n"
   ]
  },
  {
   "cell_type": "markdown",
   "id": "f748c834-8e48-4a29-a3e1-05b2466561ba",
   "metadata": {},
   "source": [
    "# creating list"
   ]
  },
  {
   "cell_type": "code",
   "execution_count": 24,
   "id": "467be613-7cc4-4362-a50c-e42b3d9285e6",
   "metadata": {},
   "outputs": [
    {
     "data": {
      "text/plain": [
       "[1, 2, 3, 4, 5, 6, 7, 8, 9, 10]"
      ]
     },
     "execution_count": 24,
     "metadata": {},
     "output_type": "execute_result"
    }
   ],
   "source": [
    "[1,2,3,4,5,6,7,8,9,10]"
   ]
  },
  {
   "cell_type": "markdown",
   "id": "962de9d5-bb4e-4d1f-9c5c-ba5616d0eb0b",
   "metadata": {},
   "source": [
    "# Append list"
   ]
  },
  {
   "cell_type": "markdown",
   "id": "d57e4848-ce13-41f4-8d3b-ce9420cee966",
   "metadata": {},
   "source": [
    " * append() is used to add an element to end of the list."
   ]
  },
  {
   "cell_type": "code",
   "execution_count": 139,
   "id": "6335e30d-b20d-45c2-9e0b-9da663fe9392",
   "metadata": {},
   "outputs": [],
   "source": [
    "a1= ['apple', 'banana', 'mango']\n",
    "\n"
   ]
  },
  {
   "cell_type": "code",
   "execution_count": 44,
   "id": "f1ea19c4-f74b-400b-978a-09d2fc353de1",
   "metadata": {},
   "outputs": [
    {
     "data": {
      "text/plain": [
       "['apple', 'banana', 'mango']"
      ]
     },
     "execution_count": 44,
     "metadata": {},
     "output_type": "execute_result"
    }
   ],
   "source": [
    "a1"
   ]
  },
  {
   "cell_type": "code",
   "execution_count": 47,
   "id": "318bd06e-d259-413b-91a9-ddb7d7a288b0",
   "metadata": {},
   "outputs": [],
   "source": [
    "a1.append('orange')\n"
   ]
  },
  {
   "cell_type": "code",
   "execution_count": 48,
   "id": "4a297970-a37a-4681-a45d-a3abf9477a8e",
   "metadata": {},
   "outputs": [
    {
     "data": {
      "text/plain": [
       "['apple', 'banana', 'mango', 'orange', 'orange', 'orange']"
      ]
     },
     "execution_count": 48,
     "metadata": {},
     "output_type": "execute_result"
    }
   ],
   "source": [
    "a1"
   ]
  },
  {
   "cell_type": "markdown",
   "id": "f43eee7b-37f8-4d14-bd29-e9b79eddd20d",
   "metadata": {},
   "source": [
    "# Clear list"
   ]
  },
  {
   "cell_type": "markdown",
   "id": "dd618595-aaf4-47c9-b892-8e33e458480d",
   "metadata": {},
   "source": [
    "* clear() is used function removes all the elements present in the list."
   ]
  },
  {
   "cell_type": "code",
   "execution_count": 49,
   "id": "99f48b39-8638-4f6a-9e0e-6b51a61867c7",
   "metadata": {},
   "outputs": [],
   "source": [
    "a1= ['apple', 'banana', 'mango']"
   ]
  },
  {
   "cell_type": "code",
   "execution_count": 50,
   "id": "64b6aef2-1cbf-4332-977c-7777e9e4f9e2",
   "metadata": {},
   "outputs": [],
   "source": [
    "a1.clear()"
   ]
  },
  {
   "cell_type": "code",
   "execution_count": 51,
   "id": "f357a52b-ec59-46d1-93d4-819ad5a03231",
   "metadata": {},
   "outputs": [
    {
     "data": {
      "text/plain": [
       "[]"
      ]
     },
     "execution_count": 51,
     "metadata": {},
     "output_type": "execute_result"
    }
   ],
   "source": [
    "a1"
   ]
  },
  {
   "cell_type": "markdown",
   "id": "c2bf0ddc-96ec-4e98-9d17-cc26e5505f3f",
   "metadata": {},
   "source": [
    "# Copy list"
   ]
  },
  {
   "cell_type": "markdown",
   "id": "3c57ea93-d2e2-480e-b38c-5000ee4787dc",
   "metadata": {
    "jp-MarkdownHeadingCollapsed": true
   },
   "source": [
    "* copy() the function returns a copy of the list as requested  the user."
   ]
  },
  {
   "cell_type": "code",
   "execution_count": 54,
   "id": "d8befa9e-8dd7-4104-a083-e7ed087a4393",
   "metadata": {},
   "outputs": [],
   "source": [
    "a1= ['apple', 'banana', 'mango']"
   ]
  },
  {
   "cell_type": "code",
   "execution_count": 57,
   "id": "823053df-a122-4f54-974b-f90c9d6b9d2c",
   "metadata": {},
   "outputs": [],
   "source": [
    "a1= a1.copy()"
   ]
  },
  {
   "cell_type": "code",
   "execution_count": 58,
   "id": "202152c2-6784-4ea5-852d-3e66c4a2ba7d",
   "metadata": {},
   "outputs": [
    {
     "data": {
      "text/plain": [
       "['apple', 'banana', 'mango']"
      ]
     },
     "execution_count": 58,
     "metadata": {},
     "output_type": "execute_result"
    }
   ],
   "source": [
    "a1"
   ]
  },
  {
   "cell_type": "markdown",
   "id": "54570e8c-1216-4084-8713-c50a5816fd99",
   "metadata": {},
   "source": [
    "# Count List"
   ]
  },
  {
   "cell_type": "markdown",
   "id": "96916b37-9bd4-45d9-8c00-5e7955ace6d2",
   "metadata": {},
   "source": [
    "* count() this function count  and then returns the number of the element present in the list."
   ]
  },
  {
   "cell_type": "code",
   "execution_count": 72,
   "id": "8957e289-609f-4835-9910-25db122d82cb",
   "metadata": {},
   "outputs": [],
   "source": [
    "a1= ['apple', 'banana', 'mango']"
   ]
  },
  {
   "cell_type": "code",
   "execution_count": 76,
   "id": "f3e2482c-a46e-4d21-a6b7-812ced65fb59",
   "metadata": {},
   "outputs": [],
   "source": [
    "a1= a1.count( 'mango')"
   ]
  },
  {
   "cell_type": "code",
   "execution_count": 77,
   "id": "45ce2d5c-ed7b-4b07-ba49-02b7302663a1",
   "metadata": {},
   "outputs": [
    {
     "data": {
      "text/plain": [
       "1"
      ]
     },
     "execution_count": 77,
     "metadata": {},
     "output_type": "execute_result"
    }
   ],
   "source": [
    "a1"
   ]
  },
  {
   "cell_type": "markdown",
   "id": "f525458f-743e-4d15-8bb0-c1cdff4b7a9a",
   "metadata": {},
   "source": [
    "# another example of count list"
   ]
  },
  {
   "cell_type": "markdown",
   "id": "64fbbfd9-2991-463b-a75a-a35165bb4abb",
   "metadata": {},
   "source": [
    "* returns the number of time the values 5 appears int the list\n"
   ]
  },
  {
   "cell_type": "code",
   "execution_count": 83,
   "id": "ebc5b1ef-ddc2-4d93-b3d4-b33857fc976e",
   "metadata": {},
   "outputs": [],
   "source": [
    "a2 = [1,4,5,3,6,8,5,9,10]"
   ]
  },
  {
   "cell_type": "code",
   "execution_count": 84,
   "id": "8770d204-86f1-4581-a765-2894ebe715b9",
   "metadata": {},
   "outputs": [],
   "source": [
    "a2in = a2.count(5)"
   ]
  },
  {
   "cell_type": "code",
   "execution_count": 85,
   "id": "eeecfdc9-522d-4fb0-819e-c45b09333ccf",
   "metadata": {},
   "outputs": [
    {
     "data": {
      "text/plain": [
       "2"
      ]
     },
     "execution_count": 85,
     "metadata": {},
     "output_type": "execute_result"
    }
   ],
   "source": [
    "a2"
   ]
  },
  {
   "cell_type": "markdown",
   "id": "cbdbc91e-e95f-4ff6-bcb8-9d4632e8fbc3",
   "metadata": {},
   "source": [
    "# Extend List"
   ]
  },
  {
   "cell_type": "markdown",
   "id": "1d8661f2-93f0-4354-bd3a-882904f1b465",
   "metadata": {},
   "source": [
    "* this function add the element present in the list or any iterable to the end of the current list"
   ]
  },
  {
   "cell_type": "code",
   "execution_count": 98,
   "id": "76fe203a-2229-4500-af8b-0cda40908659",
   "metadata": {},
   "outputs": [],
   "source": [
    "a1= ['apple', 'banana', 'mango']"
   ]
  },
  {
   "cell_type": "code",
   "execution_count": 99,
   "id": "e5c5ea23-7bc9-43b5-bdaa-e83896a1df52",
   "metadata": {},
   "outputs": [],
   "source": [
    "a2= (1,2,3,4,5)"
   ]
  },
  {
   "cell_type": "code",
   "execution_count": 100,
   "id": "ccf9ad66-52a8-4c50-b01b-ded9baeebdf5",
   "metadata": {},
   "outputs": [],
   "source": [
    "a1.extend(a2)"
   ]
  },
  {
   "cell_type": "code",
   "execution_count": 101,
   "id": "62e392da-3b11-4489-a20b-6535117e623f",
   "metadata": {},
   "outputs": [
    {
     "data": {
      "text/plain": [
       "['apple', 'banana', 'mango', 1, 2, 3, 4, 5]"
      ]
     },
     "execution_count": 101,
     "metadata": {},
     "output_type": "execute_result"
    }
   ],
   "source": [
    "a1"
   ]
  },
  {
   "cell_type": "markdown",
   "id": "3bd08e40-78e0-402a-ad7d-4ea80755f42b",
   "metadata": {},
   "source": [
    "# Index List"
   ]
  },
  {
   "cell_type": "markdown",
   "id": "5ede56d5-a48f-4ed1-b47e-50d52838ad05",
   "metadata": {},
   "source": [
    "* this function used to returns the values of the index of the first element"
   ]
  },
  {
   "cell_type": "code",
   "execution_count": 103,
   "id": "91272861-7cb1-40ab-8bbf-ca8e37ce3776",
   "metadata": {},
   "outputs": [],
   "source": [
    "a1= ['apple', 'banana', 'mango']"
   ]
  },
  {
   "cell_type": "code",
   "execution_count": 104,
   "id": "cc666fa5-4b48-4b4f-8b2b-80fc96adef83",
   "metadata": {},
   "outputs": [],
   "source": [
    "a1= a1.index('banana')"
   ]
  },
  {
   "cell_type": "code",
   "execution_count": 106,
   "id": "28e4ce56-6f31-49bc-8402-6201dc1bac73",
   "metadata": {},
   "outputs": [
    {
     "data": {
      "text/plain": [
       "1"
      ]
     },
     "execution_count": 106,
     "metadata": {},
     "output_type": "execute_result"
    }
   ],
   "source": [
    " a1"
   ]
  },
  {
   "cell_type": "markdown",
   "id": "336e1355-894b-4db7-b71e-eeeccbefa80f",
   "metadata": {},
   "source": [
    "# Insert list"
   ]
  },
  {
   "cell_type": "markdown",
   "id": "37333b67-4111-4765-a1fb-0697cb528f8e",
   "metadata": {},
   "source": [
    "* this function inserts the specified values at the specified postion."
   ]
  },
  {
   "cell_type": "code",
   "execution_count": 108,
   "id": "05a9e82d-be38-423c-92b6-82d05fc0364c",
   "metadata": {},
   "outputs": [],
   "source": [
    "a1= ['apple', 'banana', 'mango']"
   ]
  },
  {
   "cell_type": "code",
   "execution_count": 109,
   "id": "04da9e24-1967-4387-9381-6af5d242507e",
   "metadata": {},
   "outputs": [],
   "source": [
    "a1.insert(1,'orange')"
   ]
  },
  {
   "cell_type": "code",
   "execution_count": 110,
   "id": "05bcbb00-14bb-4585-a5b5-51e656a9144c",
   "metadata": {},
   "outputs": [
    {
     "data": {
      "text/plain": [
       "['apple', 'orange', 'banana', 'mango']"
      ]
     },
     "execution_count": 110,
     "metadata": {},
     "output_type": "execute_result"
    }
   ],
   "source": [
    "a1"
   ]
  },
  {
   "cell_type": "markdown",
   "id": "b3bb679b-52fc-4e51-8fc8-9c5b8277e8b4",
   "metadata": {},
   "source": [
    "# POP List"
   ]
  },
  {
   "cell_type": "markdown",
   "id": "6ce2d4ce-748e-4f28-8b68-144c3aa36cee",
   "metadata": {},
   "source": [
    " * this function removes the element at the specified position"
   ]
  },
  {
   "cell_type": "code",
   "execution_count": 119,
   "id": "8fe953e1-6b98-44aa-b52f-446eb13079b5",
   "metadata": {},
   "outputs": [],
   "source": [
    "a1= ['apple', 'banana', 'mango']"
   ]
  },
  {
   "cell_type": "code",
   "execution_count": 120,
   "id": "60041e6f-cfb7-42a5-8ccb-2331e7afb475",
   "metadata": {},
   "outputs": [
    {
     "data": {
      "text/plain": [
       "'apple'"
      ]
     },
     "execution_count": 120,
     "metadata": {},
     "output_type": "execute_result"
    }
   ],
   "source": [
    "a1.pop(0)"
   ]
  },
  {
   "cell_type": "markdown",
   "id": "eb108c47-6b2a-4c99-b6c5-5c0347492e16",
   "metadata": {},
   "source": [
    "* another example of pop list "
   ]
  },
  {
   "cell_type": "code",
   "execution_count": null,
   "id": "76da7715-090b-4c10-b444-bf63b7dd07a0",
   "metadata": {},
   "outputs": [],
   "source": [
    "a1= ['apple', 'banana', 'mango']"
   ]
  },
  {
   "cell_type": "code",
   "execution_count": 122,
   "id": "628dbbc3-c524-4707-8a0a-99bef5ec261c",
   "metadata": {},
   "outputs": [
    {
     "data": {
      "text/plain": [
       "'mango'"
      ]
     },
     "execution_count": 122,
     "metadata": {},
     "output_type": "execute_result"
    }
   ],
   "source": [
    "a1.pop(1)"
   ]
  },
  {
   "cell_type": "markdown",
   "id": "cdeac97e-66cc-46af-98c1-d61e71355f13",
   "metadata": {},
   "source": [
    "# Remove List"
   ]
  },
  {
   "cell_type": "markdown",
   "id": "8546c9fd-c6fd-4f7c-b0ec-23e336cf7a1f",
   "metadata": {},
   "source": [
    "* this function removes the values of a specified item ."
   ]
  },
  {
   "cell_type": "code",
   "execution_count": 123,
   "id": "af2c1924-a0ec-4941-ac9f-2ff43271399e",
   "metadata": {},
   "outputs": [],
   "source": [
    " a1= ['apple', 'banana', 'mango']"
   ]
  },
  {
   "cell_type": "code",
   "execution_count": 124,
   "id": "6bbc09d1-5c6b-480f-9b31-7924afefb563",
   "metadata": {},
   "outputs": [],
   "source": [
    "a1.remove('banana')"
   ]
  },
  {
   "cell_type": "code",
   "execution_count": 125,
   "id": "7fb525b5-728f-4aef-ac4a-3f826a29829e",
   "metadata": {},
   "outputs": [
    {
     "data": {
      "text/plain": [
       "['apple', 'mango']"
      ]
     },
     "execution_count": 125,
     "metadata": {},
     "output_type": "execute_result"
    }
   ],
   "source": [
    "a1"
   ]
  },
  {
   "cell_type": "markdown",
   "id": "364fb48d-ed45-4316-9486-94a7841b3eb8",
   "metadata": {},
   "source": [
    "# Reverse List"
   ]
  },
  {
   "cell_type": "markdown",
   "id": "d1c30e9b-3540-4e86-be78-42edda72bc52",
   "metadata": {},
   "source": [
    " * this function reverses the order of the element."
   ]
  },
  {
   "cell_type": "code",
   "execution_count": 128,
   "id": "babda0ed-bc8f-498e-8588-b9efdd729305",
   "metadata": {},
   "outputs": [],
   "source": [
    " a1= ['apple', 'banana', 'mango']"
   ]
  },
  {
   "cell_type": "code",
   "execution_count": 129,
   "id": "64413d8e-bc24-4c56-96e4-727e6ee5aa4e",
   "metadata": {},
   "outputs": [],
   "source": [
    "a1.reverse()"
   ]
  },
  {
   "cell_type": "code",
   "execution_count": 130,
   "id": "3bca2fa4-0ca0-4712-975c-82d9feb77f08",
   "metadata": {},
   "outputs": [
    {
     "data": {
      "text/plain": [
       "['mango', 'banana', 'apple']"
      ]
     },
     "execution_count": 130,
     "metadata": {},
     "output_type": "execute_result"
    }
   ],
   "source": [
    "a1"
   ]
  },
  {
   "cell_type": "markdown",
   "id": "17a3a079-9a70-4d4c-a6d9-ac76f11d9668",
   "metadata": {},
   "source": [
    "# Sort List"
   ]
  },
  {
   "cell_type": "markdown",
   "id": "e55db469-fb2b-4b66-8cb0-06bb5247008e",
   "metadata": {},
   "source": [
    "* this function sorts the list ascending "
   ]
  },
  {
   "cell_type": "code",
   "execution_count": 131,
   "id": "711e23f1-f74e-47f5-a706-ca8582322b65",
   "metadata": {},
   "outputs": [],
   "source": [
    "a1= ['apple', 'banana', 'mango']"
   ]
  },
  {
   "cell_type": "code",
   "execution_count": 132,
   "id": "527ae9c7-11c0-41e8-a6d8-e869c10b7303",
   "metadata": {},
   "outputs": [],
   "source": [
    "a1.sort()"
   ]
  },
  {
   "cell_type": "code",
   "execution_count": 133,
   "id": "87e58feb-2c29-4201-a670-f9a8bc9ed5ed",
   "metadata": {},
   "outputs": [
    {
     "data": {
      "text/plain": [
       "['apple', 'banana', 'mango']"
      ]
     },
     "execution_count": 133,
     "metadata": {},
     "output_type": "execute_result"
    }
   ],
   "source": [
    "a1"
   ]
  },
  {
   "cell_type": "markdown",
   "id": "14b5c61d-1c56-4626-8ced-19a876d74502",
   "metadata": {},
   "source": [
    "* sort the list desecending"
   ]
  },
  {
   "cell_type": "code",
   "execution_count": 136,
   "id": "ad19fe3e-4039-453c-a6ac-c651ebd99d00",
   "metadata": {},
   "outputs": [],
   "source": [
    "a1= ['apple', 'banana', 'mango']"
   ]
  },
  {
   "cell_type": "code",
   "execution_count": 137,
   "id": "e2bbb139-33ee-43c9-98d1-2cf52e323edb",
   "metadata": {},
   "outputs": [],
   "source": [
    "a1.sort(reverse=True)"
   ]
  },
  {
   "cell_type": "code",
   "execution_count": 138,
   "id": "fac07a63-4740-4f8b-b470-899deca54ca0",
   "metadata": {},
   "outputs": [
    {
     "data": {
      "text/plain": [
       "['mango', 'banana', 'apple']"
      ]
     },
     "execution_count": 138,
     "metadata": {},
     "output_type": "execute_result"
    }
   ],
   "source": [
    "a1"
   ]
  }
 ],
 "metadata": {
  "kernelspec": {
   "display_name": "Python 3 (ipykernel)",
   "language": "python",
   "name": "python3"
  },
  "language_info": {
   "codemirror_mode": {
    "name": "ipython",
    "version": 3
   },
   "file_extension": ".py",
   "mimetype": "text/x-python",
   "name": "python",
   "nbconvert_exporter": "python",
   "pygments_lexer": "ipython3",
   "version": "3.11.7"
  }
 },
 "nbformat": 4,
 "nbformat_minor": 5
}
